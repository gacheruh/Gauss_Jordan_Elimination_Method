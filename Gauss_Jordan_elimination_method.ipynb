{
  "nbformat": 4,
  "nbformat_minor": 0,
  "metadata": {
    "colab": {
      "provenance": []
    },
    "kernelspec": {
      "name": "python3",
      "display_name": "Python 3"
    },
    "language_info": {
      "name": "python"
    }
  },
  "cells": [
    {
      "cell_type": "markdown",
      "source": [
        "# **DERRICK GACHERU**\n",
        "# **SCT211-0004/2021**"
      ],
      "metadata": {
        "id": "K1uLJ7iVBPp0"
      }
    },
    {
      "cell_type": "markdown",
      "source": [
        "## **1. GAUSS JORDAN ELIMINATION METHOD**\n",
        "\n",
        "\n",
        "***Gauss-Jordan elimination*** is a systematic method used to solve systems of linear equations by transforming the augmented matrix (comprising the coefficients matrix and the constants vector) into reduced row-echelon form. This process involves two main steps:\n",
        "\n",
        "**a). Forward Elimination (Gauss Elimination):**\n",
        "\n",
        "\n",
        "*   Convert the augmented matrix into upper triangular form by introducing zeros below the main diagonal.\n",
        "*   Achieve this by pivoting on diagonal elements and eliminating entries below each pivot.\n",
        "\n",
        "\n",
        "\n",
        "\n",
        "**b). Backward Substitution (Jordan Elimination):**\n",
        "\n",
        "\n",
        "\n",
        "*   Convert the upper triangular matrix into reduced row-echelon form by introducing zeros above each pivot and making each pivot equal to 1.\n",
        "*   Achieve this by pivoting on diagonal elements and eliminating entries above each pivot.\n",
        "\n",
        "\n",
        "The resulting reduced row-echelon form allows for easy extraction of the solution, providing insights into the nature of the solution (unique, inconsistent, or infinitely many)."
      ],
      "metadata": {
        "id": "RG8u6OeMBRmD"
      }
    },
    {
      "cell_type": "code",
      "execution_count": 5,
      "metadata": {
        "colab": {
          "base_uri": "https://localhost:8080/",
          "height": 0
        },
        "id": "xMKXAIM39Qzj",
        "outputId": "9727c73e-ec1d-4912-8959-03a266f31acf"
      },
      "outputs": [
        {
          "output_type": "stream",
          "name": "stdout",
          "text": [
            "Solution: [4.0, 2.0]\n"
          ]
        }
      ],
      "source": [
        "import math\n",
        "\n",
        "def gauss_jordan_elimination(A, b):\n",
        "    \"\"\"\n",
        "    Solves a system of linear equations Ax = b using Gauss-Jordan elimination method.\n",
        "\n",
        "    Parameters:\n",
        "        A (list of lists): Coefficients matrix.\n",
        "        b (list): Constants vector.\n",
        "\n",
        "    Returns:\n",
        "        x (list): Solution vector.\n",
        "    \"\"\"\n",
        "    # Augmented matrix [A|b]\n",
        "    n = len(A)\n",
        "\n",
        "    #enumerate function pairs each element of the coefficients matrix A with its corresponding index.\n",
        "    augmented_matrix = [row + [b[i]] for i, row in enumerate(A)]\n",
        "\n",
        "    # Perform Gauss-Jordan elimination\n",
        "    for i in range(n):\n",
        "        # Divide row i by the diagonal element\n",
        "        pivot = augmented_matrix[i][i]\n",
        "        for j in range(i, n + 1):\n",
        "            augmented_matrix[i][j] /= pivot\n",
        "\n",
        "        # Eliminate all other entries in the column\n",
        "        for j in range(n):\n",
        "            if i != j:\n",
        "                factor = augmented_matrix[j][i]\n",
        "                for k in range(i, n + 1):\n",
        "                    augmented_matrix[j][k] -= factor * augmented_matrix[i][k]\n",
        "\n",
        "    # Extract solution vector\n",
        "    x = [row[-1] for row in augmented_matrix]\n",
        "\n",
        "    return x\n",
        "\n",
        "# Example usage:\n",
        "A = [[1, 1],\n",
        "     [1, 2]]\n",
        "\n",
        "b = [6, 8]\n",
        "\n",
        "solution = gauss_jordan_elimination(A, b)\n",
        "print(\"Solution:\", solution)\n"
      ]
    },
    {
      "cell_type": "markdown",
      "source": [
        "## **2. GAUSSIAN ELIMINATION METHOD**\n",
        "\n",
        "***Gaussian elimination*** is a method used to solve systems of linear equations by transforming the augmented matrix (which combines the coefficients matrix and the constants vector) into upper triangular form. This process involves three main steps:\n",
        "\n",
        "**a). Forward Elimination:**\n",
        "\n",
        "\n",
        "*   Convert the augmented matrix into upper triangular form by introducing zeros below the main diagonal.\n",
        "*  Achieve this by pivoting on diagonal elements and eliminating entries below each pivot.\n",
        "\n",
        "**b). Back Substitution:**\n",
        "\n",
        "\n",
        "*   Once the matrix is in upper triangular form, solve for the variables by back-substituting their values into the equations.\n",
        "*   Start with the last equation and solve for the last variable, then work backwards solving for each variable.\n",
        "\n",
        "**c). Solution Extraction:**\n",
        "\n",
        "\n",
        "*   The solution can be read off directly from the upper triangular matrix or the back-substituted values of the variables.\n",
        "\n",
        "\n",
        "Gaussian elimination is an efficient method for solving systems of linear equations, particularly when implemented algorithmically. It provides a systematic approach to finding solutions and is widely used in various fields of mathematics and engineering."
      ],
      "metadata": {
        "id": "TKeinmNfDDuf"
      }
    },
    {
      "cell_type": "code",
      "source": [
        "import math\n",
        "\n",
        "def gaussian_elimination(A, b):\n",
        "    n = len(A)\n",
        "\n",
        "    # Forward Elimination\n",
        "    for i in range(n):\n",
        "        # Partial pivoting\n",
        "        max_index = i\n",
        "        for j in range(i+1, n):\n",
        "            if abs(A[j][i]) > abs(A[max_index][i]):\n",
        "                max_index = j\n",
        "        A[i], A[max_index] = A[max_index], A[i]\n",
        "        b[i], b[max_index] = b[max_index], b[i]\n",
        "\n",
        "        # Make the diagonal element 1\n",
        "        factor = A[i][i]\n",
        "        for j in range(i, n):\n",
        "            A[i][j] /= factor\n",
        "        b[i] /= factor\n",
        "\n",
        "        # Eliminate the lower triangular elements\n",
        "        for j in range(i+1, n):\n",
        "            factor = A[j][i]\n",
        "            for k in range(i, n):\n",
        "                A[j][k] -= factor * A[i][k]\n",
        "            b[j] -= factor * b[i]\n",
        "\n",
        "    # Back Substitution\n",
        "    x = [0] * n\n",
        "    for i in range(n-1, -1, -1):\n",
        "        x[i] = b[i]\n",
        "        for j in range(i+1, n):\n",
        "            x[i] -= A[i][j] * x[j]\n",
        "\n",
        "    return x\n",
        "\n",
        "# Example usage\n",
        "A = [[1, 1],\n",
        "    [1, 2]]\n",
        "b = [6, 8]\n",
        "solution = gaussian_elimination(A, b)\n",
        "print(\"Solution:\", solution)\n"
      ],
      "metadata": {
        "colab": {
          "base_uri": "https://localhost:8080/",
          "height": 0
        },
        "id": "3jqLrhzKEVfY",
        "outputId": "f33999be-ba86-4229-af01-5f3161dab524"
      },
      "execution_count": 6,
      "outputs": [
        {
          "output_type": "stream",
          "name": "stdout",
          "text": [
            "Solution: [4.0, 2.0]\n"
          ]
        }
      ]
    },
    {
      "cell_type": "markdown",
      "source": [
        "\n",
        "\n",
        "## **3. FINDING MOLAR MASS OF 3 SALTS**\n",
        "\n",
        "A lab group is combining different amounts of 3 salts to obtain various weights of the final product. They combine 2 mol of salt A, 3\n",
        "mol of salt B, and 1 mol of salt C to make 312.1 g of the final product. Then, they combine 1 mol of salt A, 2 mol of salt B, and 1 mol of\n",
        "salt C to make 216.7 g of the final product. Finally, the lab group combines 1 mol of salt A, 1 mol of salt B, and 2 mol of salt C to make\n",
        "264 g of the final product. Find the molar mass of each salt.\n",
        "\n",
        "#### ***Explanation***\n",
        "\n",
        "\n",
        "To solve this problem using linear algebra, we can represent it as a system of linear equations. Let's denote the molar masses of salts A, B, and C as a, b and c respectively.\n",
        "\n",
        "The given information can be represented by the following system of equations:\n",
        "\n",
        "*   *2a + 3b + c = 312.1*\n",
        "*   *a + 2b + c = 216.7*\n",
        "*   *a + b + 2c = 264*\n",
        "\n",
        "We can rewrite this system of equations in matrix form ***A⋅x=b***, where:\n",
        "\n",
        "\n",
        "\n",
        "*   ***A*** is the coefficient matrix representing the molar coefficients of salts A, B, and C in each equation.\n",
        "*   ***x*** is the column vector representing the molar masses of salts A, B, and C.\n",
        "*   ***b*** is the column vector representing the weights of the final product in each equation.\n",
        "\n",
        "Then, we can solve for ***x*** using ***Gauss Jordan Elimination Method*** which was defined in the python code above\n",
        "\n"
      ],
      "metadata": {
        "id": "_m4PGs-IE4XV"
      }
    },
    {
      "cell_type": "code",
      "source": [
        "# Coefficient matrix A\n",
        "A = [[2, 3, 1],\n",
        "     [1, 2, 1],\n",
        "     [1, 1, 2]]\n",
        "\n",
        "# Constants vector b\n",
        "b = [312.1, 216.7, 264]\n",
        "\n",
        "# Solve the system of equations\n",
        "molar_masses = gauss_jordan_elimination(A, b)\n",
        "\n",
        "# Print the results\n",
        "print(\"Molar Mass of Salt A:\", molar_masses[0])\n",
        "print(\"Molar Mass of Salt B:\", molar_masses[1])\n",
        "print(\"Molar Mass of Salt C:\", molar_masses[2])"
      ],
      "metadata": {
        "colab": {
          "base_uri": "https://localhost:8080/",
          "height": 0
        },
        "id": "p9pfQs8kJZck",
        "outputId": "18c6c950-8685-4fbe-a6cb-5346ac485670"
      },
      "execution_count": 7,
      "outputs": [
        {
          "output_type": "stream",
          "name": "stdout",
          "text": [
            "Molar Mass of Salt A: 58.40000000000006\n",
            "Molar Mass of Salt B: 36.99999999999997\n",
            "Molar Mass of Salt C: 84.29999999999998\n"
          ]
        }
      ]
    },
    {
      "cell_type": "markdown",
      "source": [
        "## **4. FINDING THE VOLUME OF SOLUTION USED**\n",
        "\n",
        "A chemistry student is trying to make 100 mL of a 26% acid solution from a 10% solution, a 20% solution, and a 40% solution. Unfortunately, the lab is out of 20%, so the student uses a 25% solution, and ends up with 100 mL of 28% solution. What volume of each solution did the student use?\n",
        "\n",
        "This problem can be solved by using the ***Gauss Jordan method*** defined above\n",
        "\n"
      ],
      "metadata": {
        "id": "WQAoGOjgKds-"
      }
    },
    {
      "cell_type": "code",
      "source": [
        "# Coefficient matrix A\n",
        "A = [[1, 1, 1],\n",
        "     [0.10, 0.25, 0.40],\n",
        "     [0.10/100, 0.25/100, 0.40/100]]  # Divide the constants by 100\n",
        "\n",
        "# Constants vector b\n",
        "b = [100, 0.26 * 100, 0.28 * 100]  # Multiply by 100\n",
        "\n",
        "# Solve the system of equations\n",
        "volumes = gauss_jordan_elimination(A, b)\n",
        "\n",
        "# Print the results\n",
        "print(\"Volume of 10% solution:\", volumes[0], \"mL\")\n",
        "print(\"Volume of 25% solution:\", volumes[1], \"mL\")\n",
        "print(\"Volume of 40% solution:\", volumes[2], \"mL\")"
      ],
      "metadata": {
        "colab": {
          "base_uri": "https://localhost:8080/",
          "height": 0
        },
        "id": "WBwoG-_eNKgS",
        "outputId": "73345c05-4cef-49c3-a67f-388bfe94b429"
      },
      "execution_count": 12,
      "outputs": [
        {
          "output_type": "stream",
          "name": "stdout",
          "text": [
            "Volume of 10% solution: -3.198204253779395e+19 mL\n",
            "Volume of 25% solution: 6.396408507558789e+19 mL\n",
            "Volume of 40% solution: -3.1982042537793937e+19 mL\n"
          ]
        }
      ]
    }
  ]
}